{
  "nbformat": 4,
  "nbformat_minor": 0,
  "metadata": {
    "colab": {
      "name": "5 - yandex_test_product_music.ipynb",
      "provenance": [],
      "authorship_tag": "ABX9TyNcznyxfm6lZihd9ubTQ3XF",
      "include_colab_link": true
    },
    "kernelspec": {
      "name": "python3",
      "display_name": "Python 3"
    }
  },
  "cells": [
    {
      "cell_type": "markdown",
      "metadata": {
        "id": "view-in-github",
        "colab_type": "text"
      },
      "source": [
        "<a href=\"https://colab.research.google.com/github/ahill132009/Yandex-product-analytics/blob/main/5_yandex_test_product_music.ipynb\" target=\"_parent\"><img src=\"https://colab.research.google.com/assets/colab-badge.svg\" alt=\"Open In Colab\"/></a>"
      ]
    },
    {
      "cell_type": "code",
      "metadata": {
        "id": "DX1VtH5zSaSe",
        "colab": {
          "base_uri": "https://localhost:8080/"
        },
        "outputId": "5d7a09e1-f912-43ba-ea5f-f9c1cb94df06"
      },
      "source": [
        "!gdown --id 179z4_8mCfDNIPOZjxQThsDx88YFndtZu"
      ],
      "execution_count": 1,
      "outputs": [
        {
          "output_type": "stream",
          "text": [
            "Downloading...\n",
            "From: https://drive.google.com/uc?id=179z4_8mCfDNIPOZjxQThsDx88YFndtZu\n",
            "To: /content/music_data.csv\n",
            "150MB [00:02, 57.2MB/s]\n"
          ],
          "name": "stdout"
        }
      ]
    },
    {
      "cell_type": "code",
      "metadata": {
        "id": "EeHqjW0lQ2LS"
      },
      "source": [
        "import pandas as pd\n",
        "df = pd.read_csv('/content/music_data.csv')"
      ],
      "execution_count": 2,
      "outputs": []
    },
    {
      "cell_type": "code",
      "metadata": {
        "colab": {
          "base_uri": "https://localhost:8080/",
          "height": 300
        },
        "id": "g5Rg_HPDRHuW",
        "outputId": "9954a2b6-7b27-4f1c-f984-d307e3b53016"
      },
      "source": [
        "df.describe()"
      ],
      "execution_count": 3,
      "outputs": [
        {
          "output_type": "execute_result",
          "data": {
            "text/html": [
              "<div>\n",
              "<style scoped>\n",
              "    .dataframe tbody tr th:only-of-type {\n",
              "        vertical-align: middle;\n",
              "    }\n",
              "\n",
              "    .dataframe tbody tr th {\n",
              "        vertical-align: top;\n",
              "    }\n",
              "\n",
              "    .dataframe thead th {\n",
              "        text-align: right;\n",
              "    }\n",
              "</style>\n",
              "<table border=\"1\" class=\"dataframe\">\n",
              "  <thead>\n",
              "    <tr style=\"text-align: right;\">\n",
              "      <th></th>\n",
              "      <th>Unnamed: 0</th>\n",
              "      <th>track_duration</th>\n",
              "    </tr>\n",
              "  </thead>\n",
              "  <tbody>\n",
              "    <tr>\n",
              "      <th>count</th>\n",
              "      <td>842397.000000</td>\n",
              "      <td>842397.000000</td>\n",
              "    </tr>\n",
              "    <tr>\n",
              "      <th>mean</th>\n",
              "      <td>421198.000000</td>\n",
              "      <td>651.026261</td>\n",
              "    </tr>\n",
              "    <tr>\n",
              "      <th>std</th>\n",
              "      <td>243179.211694</td>\n",
              "      <td>900.259585</td>\n",
              "    </tr>\n",
              "    <tr>\n",
              "      <th>min</th>\n",
              "      <td>0.000000</td>\n",
              "      <td>240.635442</td>\n",
              "    </tr>\n",
              "    <tr>\n",
              "      <th>25%</th>\n",
              "      <td>210599.000000</td>\n",
              "      <td>366.486757</td>\n",
              "    </tr>\n",
              "    <tr>\n",
              "      <th>50%</th>\n",
              "      <td>421198.000000</td>\n",
              "      <td>407.273724</td>\n",
              "    </tr>\n",
              "    <tr>\n",
              "      <th>75%</th>\n",
              "      <td>631797.000000</td>\n",
              "      <td>465.304148</td>\n",
              "    </tr>\n",
              "    <tr>\n",
              "      <th>max</th>\n",
              "      <td>842396.000000</td>\n",
              "      <td>4786.285463</td>\n",
              "    </tr>\n",
              "  </tbody>\n",
              "</table>\n",
              "</div>"
            ],
            "text/plain": [
              "          Unnamed: 0  track_duration\n",
              "count  842397.000000   842397.000000\n",
              "mean   421198.000000      651.026261\n",
              "std    243179.211694      900.259585\n",
              "min         0.000000      240.635442\n",
              "25%    210599.000000      366.486757\n",
              "50%    421198.000000      407.273724\n",
              "75%    631797.000000      465.304148\n",
              "max    842396.000000     4786.285463"
            ]
          },
          "metadata": {
            "tags": []
          },
          "execution_count": 3
        }
      ]
    },
    {
      "cell_type": "code",
      "metadata": {
        "colab": {
          "base_uri": "https://localhost:8080/",
          "height": 330
        },
        "id": "2ydwcW_cRx4g",
        "outputId": "8ca0a860-3b92-44aa-9d66-f486d9a2291c"
      },
      "source": [
        "df.head()"
      ],
      "execution_count": 4,
      "outputs": [
        {
          "output_type": "execute_result",
          "data": {
            "text/html": [
              "<div>\n",
              "<style scoped>\n",
              "    .dataframe tbody tr th:only-of-type {\n",
              "        vertical-align: middle;\n",
              "    }\n",
              "\n",
              "    .dataframe tbody tr th {\n",
              "        vertical-align: top;\n",
              "    }\n",
              "\n",
              "    .dataframe thead th {\n",
              "        text-align: right;\n",
              "    }\n",
              "</style>\n",
              "<table border=\"1\" class=\"dataframe\">\n",
              "  <thead>\n",
              "    <tr style=\"text-align: right;\">\n",
              "      <th></th>\n",
              "      <th>Unnamed: 0</th>\n",
              "      <th>audition_id</th>\n",
              "      <th>track_duration</th>\n",
              "      <th>track_genre</th>\n",
              "      <th>track_id</th>\n",
              "      <th>user_id</th>\n",
              "      <th>utc_audition_end_dttm</th>\n",
              "      <th>utc_audition_start_dttm</th>\n",
              "    </tr>\n",
              "  </thead>\n",
              "  <tbody>\n",
              "    <tr>\n",
              "      <th>0</th>\n",
              "      <td>0</td>\n",
              "      <td>3fecd60bf5564de7bb0064335f482b4d</td>\n",
              "      <td>336.629082</td>\n",
              "      <td>RAP</td>\n",
              "      <td>efd614e5-239a-418e-b39c-181b43719b62</td>\n",
              "      <td>a72d73ea124840698aa8</td>\n",
              "      <td>2021-02-28T12:32:10.776000Z</td>\n",
              "      <td>2021-02-28T12:31:01.865000Z</td>\n",
              "    </tr>\n",
              "    <tr>\n",
              "      <th>1</th>\n",
              "      <td>1</td>\n",
              "      <td>8ae1703df8354ee6b8d39ce2ceae4508</td>\n",
              "      <td>428.797846</td>\n",
              "      <td>VOCAL</td>\n",
              "      <td>d4697e6e-698a-41e8-8e15-ec890c94751e</td>\n",
              "      <td>066cc9287de340f281ba</td>\n",
              "      <td>2021-01-19T12:13:43.369000Z</td>\n",
              "      <td>2021-01-19T12:12:48.185000Z</td>\n",
              "    </tr>\n",
              "    <tr>\n",
              "      <th>2</th>\n",
              "      <td>2</td>\n",
              "      <td>44383125d98a4d939e7f294602674fc6</td>\n",
              "      <td>463.467143</td>\n",
              "      <td>METAL</td>\n",
              "      <td>e006afab-c832-4d07-8cd0-7d4a9c2aabe8</td>\n",
              "      <td>95ed23b52b104f66b4b1</td>\n",
              "      <td>2021-02-27T19:53:57.143000Z</td>\n",
              "      <td>2021-02-27T19:52:42.470000Z</td>\n",
              "    </tr>\n",
              "    <tr>\n",
              "      <th>3</th>\n",
              "      <td>3</td>\n",
              "      <td>a90b74992c9f4046a68935cb83ced7ee</td>\n",
              "      <td>323.746259</td>\n",
              "      <td>HARDROCK</td>\n",
              "      <td>c2ea845c-fcba-480a-b41a-d58bf9493375</td>\n",
              "      <td>b0a6dcec6f604b50b37e</td>\n",
              "      <td>2021-02-24T01:51:44.526000Z</td>\n",
              "      <td>2021-02-24T01:46:25.549000Z</td>\n",
              "    </tr>\n",
              "    <tr>\n",
              "      <th>4</th>\n",
              "      <td>4</td>\n",
              "      <td>0d98a88fba0a4dc3bb0444089a0ce16b</td>\n",
              "      <td>316.888403</td>\n",
              "      <td>POP</td>\n",
              "      <td>ad68738c-2a38-4e0f-910a-71bb0aa0a0c0</td>\n",
              "      <td>6788b1c78a724de488c9</td>\n",
              "      <td>2020-12-24T05:04:32.855000Z</td>\n",
              "      <td>2020-12-24T05:00:09.645000Z</td>\n",
              "    </tr>\n",
              "  </tbody>\n",
              "</table>\n",
              "</div>"
            ],
            "text/plain": [
              "   Unnamed: 0  ...      utc_audition_start_dttm\n",
              "0           0  ...  2021-02-28T12:31:01.865000Z\n",
              "1           1  ...  2021-01-19T12:12:48.185000Z\n",
              "2           2  ...  2021-02-27T19:52:42.470000Z\n",
              "3           3  ...  2021-02-24T01:46:25.549000Z\n",
              "4           4  ...  2020-12-24T05:00:09.645000Z\n",
              "\n",
              "[5 rows x 8 columns]"
            ]
          },
          "metadata": {
            "tags": []
          },
          "execution_count": 4
        }
      ]
    },
    {
      "cell_type": "code",
      "metadata": {
        "id": "G3L0WP9dhxF1"
      },
      "source": [
        "# объединим похожие жанры\n",
        "genres = ['TECHNO', 'DUBSTEP', 'ELECTRONICS', 'HOUSE', 'INDUSTRIAL']\n",
        "df2 = df[df['track_genre'].isin(genres)]"
      ],
      "execution_count": 5,
      "outputs": []
    },
    {
      "cell_type": "code",
      "metadata": {
        "colab": {
          "base_uri": "https://localhost:8080/"
        },
        "id": "7LCK3b_Himfq",
        "outputId": "ac66b1bd-e65c-4b62-b9e6-26d1aeb2e320"
      },
      "source": [
        "print(len(df2))\n",
        "print(len(df))"
      ],
      "execution_count": 6,
      "outputs": [
        {
          "output_type": "stream",
          "text": [
            "182433\n",
            "842397\n"
          ],
          "name": "stdout"
        }
      ]
    },
    {
      "cell_type": "code",
      "metadata": {
        "id": "G4W8QNbPjAVM"
      },
      "source": [
        "# сортированный датачет любителей электронной музыки\n",
        "techno_users = df2.user_id.value_counts().rename_axis('user_id').reset_index(name='number_techno')"
      ],
      "execution_count": 7,
      "outputs": []
    },
    {
      "cell_type": "code",
      "metadata": {
        "colab": {
          "base_uri": "https://localhost:8080/",
          "height": 206
        },
        "id": "P4S2s_ZJi7Q_",
        "outputId": "a7eb347f-8ad5-423d-fd91-50dff53ee554"
      },
      "source": [
        ""
      ],
      "execution_count": 8,
      "outputs": [
        {
          "output_type": "execute_result",
          "data": {
            "text/html": [
              "<div>\n",
              "<style scoped>\n",
              "    .dataframe tbody tr th:only-of-type {\n",
              "        vertical-align: middle;\n",
              "    }\n",
              "\n",
              "    .dataframe tbody tr th {\n",
              "        vertical-align: top;\n",
              "    }\n",
              "\n",
              "    .dataframe thead th {\n",
              "        text-align: right;\n",
              "    }\n",
              "</style>\n",
              "<table border=\"1\" class=\"dataframe\">\n",
              "  <thead>\n",
              "    <tr style=\"text-align: right;\">\n",
              "      <th></th>\n",
              "      <th>user_id</th>\n",
              "      <th>number_techno</th>\n",
              "    </tr>\n",
              "  </thead>\n",
              "  <tbody>\n",
              "    <tr>\n",
              "      <th>0</th>\n",
              "      <td>34a0b3746c624e5ba3ca</td>\n",
              "      <td>225</td>\n",
              "    </tr>\n",
              "    <tr>\n",
              "      <th>1</th>\n",
              "      <td>0041383820e248e487a6</td>\n",
              "      <td>225</td>\n",
              "    </tr>\n",
              "    <tr>\n",
              "      <th>2</th>\n",
              "      <td>26fc025750364a34881f</td>\n",
              "      <td>219</td>\n",
              "    </tr>\n",
              "    <tr>\n",
              "      <th>3</th>\n",
              "      <td>805f5e31be634900a9ed</td>\n",
              "      <td>215</td>\n",
              "    </tr>\n",
              "    <tr>\n",
              "      <th>4</th>\n",
              "      <td>1ac8ca9850b74c02a883</td>\n",
              "      <td>197</td>\n",
              "    </tr>\n",
              "  </tbody>\n",
              "</table>\n",
              "</div>"
            ],
            "text/plain": [
              "                user_id  number_techno\n",
              "0  34a0b3746c624e5ba3ca            225\n",
              "1  0041383820e248e487a6            225\n",
              "2  26fc025750364a34881f            219\n",
              "3  805f5e31be634900a9ed            215\n",
              "4  1ac8ca9850b74c02a883            197"
            ]
          },
          "metadata": {
            "tags": []
          },
          "execution_count": 8
        }
      ]
    },
    {
      "cell_type": "code",
      "metadata": {
        "id": "tkRqAyMLjUJB"
      },
      "source": [
        "all_genres = df.user_id.value_counts().rename_axis('user_id').reset_index(name='number')"
      ],
      "execution_count": 9,
      "outputs": []
    },
    {
      "cell_type": "code",
      "metadata": {
        "id": "AMKgrN4fkJ3l"
      },
      "source": [
        "df3 = all_genres.merge(techno_users, on='user_id')"
      ],
      "execution_count": 12,
      "outputs": []
    },
    {
      "cell_type": "code",
      "metadata": {
        "id": "oNFbI_oSjvFq"
      },
      "source": [
        "df3['perc'] = df3['number_techno'] / df3['number'] * 100"
      ],
      "execution_count": 13,
      "outputs": []
    },
    {
      "cell_type": "code",
      "metadata": {
        "colab": {
          "base_uri": "https://localhost:8080/",
          "height": 592
        },
        "id": "6B5l8m2im4FM",
        "outputId": "52b25d68-99dc-47a7-b0a4-2a97dee7fd7c"
      },
      "source": [
        "import matplotlib.pyplot as plt\n",
        "plt.figure(figsize=(20,10))\n",
        "#plt.scatter(range(len(df3.number)), df3.number)\n",
        "#plt.scatter(range(len(df3.number)), df3.number_techno, c='red')\n",
        "plt.scatter(range(len(df3.number)), df3.perc)\n",
        "plt.show()"
      ],
      "execution_count": 14,
      "outputs": [
        {
          "output_type": "display_data",
          "data": {
            "image/png": "[encoded data removed]",
            "text/plain": [
              "<Figure size 1440x720 with 1 Axes>"
            ]
          },
          "metadata": {
            "tags": [],
            "needs_background": "light"
          }
        }
      ]
    },
    {
      "cell_type": "code",
      "metadata": {
        "colab": {
          "base_uri": "https://localhost:8080/",
          "height": 300
        },
        "id": "40qFd3Pzqw1J",
        "outputId": "1c2a1cff-121b-454a-d7a8-777296491c8b"
      },
      "source": [
        "df3.describe()"
      ],
      "execution_count": 15,
      "outputs": [
        {
          "output_type": "execute_result",
          "data": {
            "text/html": [
              "<div>\n",
              "<style scoped>\n",
              "    .dataframe tbody tr th:only-of-type {\n",
              "        vertical-align: middle;\n",
              "    }\n",
              "\n",
              "    .dataframe tbody tr th {\n",
              "        vertical-align: top;\n",
              "    }\n",
              "\n",
              "    .dataframe thead th {\n",
              "        text-align: right;\n",
              "    }\n",
              "</style>\n",
              "<table border=\"1\" class=\"dataframe\">\n",
              "  <thead>\n",
              "    <tr style=\"text-align: right;\">\n",
              "      <th></th>\n",
              "      <th>number</th>\n",
              "      <th>number_techno</th>\n",
              "      <th>perc</th>\n",
              "    </tr>\n",
              "  </thead>\n",
              "  <tbody>\n",
              "    <tr>\n",
              "      <th>count</th>\n",
              "      <td>1727.000000</td>\n",
              "      <td>1727.000000</td>\n",
              "      <td>1727.000000</td>\n",
              "    </tr>\n",
              "    <tr>\n",
              "      <th>mean</th>\n",
              "      <td>487.780544</td>\n",
              "      <td>105.635785</td>\n",
              "      <td>21.655388</td>\n",
              "    </tr>\n",
              "    <tr>\n",
              "      <th>std</th>\n",
              "      <td>143.494251</td>\n",
              "      <td>32.475607</td>\n",
              "      <td>2.013752</td>\n",
              "    </tr>\n",
              "    <tr>\n",
              "      <th>min</th>\n",
              "      <td>68.000000</td>\n",
              "      <td>20.000000</td>\n",
              "      <td>14.418605</td>\n",
              "    </tr>\n",
              "    <tr>\n",
              "      <th>25%</th>\n",
              "      <td>395.000000</td>\n",
              "      <td>83.500000</td>\n",
              "      <td>20.363822</td>\n",
              "    </tr>\n",
              "    <tr>\n",
              "      <th>50%</th>\n",
              "      <td>485.000000</td>\n",
              "      <td>106.000000</td>\n",
              "      <td>21.621622</td>\n",
              "    </tr>\n",
              "    <tr>\n",
              "      <th>75%</th>\n",
              "      <td>583.000000</td>\n",
              "      <td>127.000000</td>\n",
              "      <td>22.979781</td>\n",
              "    </tr>\n",
              "    <tr>\n",
              "      <th>max</th>\n",
              "      <td>1069.000000</td>\n",
              "      <td>225.000000</td>\n",
              "      <td>31.944444</td>\n",
              "    </tr>\n",
              "  </tbody>\n",
              "</table>\n",
              "</div>"
            ],
            "text/plain": [
              "            number  number_techno         perc\n",
              "count  1727.000000    1727.000000  1727.000000\n",
              "mean    487.780544     105.635785    21.655388\n",
              "std     143.494251      32.475607     2.013752\n",
              "min      68.000000      20.000000    14.418605\n",
              "25%     395.000000      83.500000    20.363822\n",
              "50%     485.000000     106.000000    21.621622\n",
              "75%     583.000000     127.000000    22.979781\n",
              "max    1069.000000     225.000000    31.944444"
            ]
          },
          "metadata": {
            "tags": []
          },
          "execution_count": 15
        }
      ]
    },
    {
      "cell_type": "code",
      "metadata": {
        "colab": {
          "base_uri": "https://localhost:8080/",
          "height": 283
        },
        "id": "DrhIrpizsvjQ",
        "outputId": "5dd12b8c-b6b2-473d-85ab-58e2102af2d6"
      },
      "source": [
        "# Топ 25%\n",
        "\n",
        "plt.scatter(range(len(df3[df3['perc'] > 23].perc)), df3[df3['perc'] > 23].perc)\n"
      ],
      "execution_count": 19,
      "outputs": [
        {
          "output_type": "execute_result",
          "data": {
            "text/plain": [
              "<matplotlib.collections.PathCollection at 0x7fe4a12e8750>"
            ]
          },
          "metadata": {
            "tags": []
          },
          "execution_count": 19
        },
        {
          "output_type": "display_data",
          "data": {
            "image/png": "[encoded data removed]",
            "text/plain": [
              "<Figure size 432x288 with 1 Axes>"
            ]
          },
          "metadata": {
            "tags": [],
            "needs_background": "light"
          }
        }
      ]
    },
    {
      "cell_type": "code",
      "metadata": {
        "colab": {
          "base_uri": "https://localhost:8080/"
        },
        "id": "nsCd2Kzyt7Q5",
        "outputId": "26059a75-ed54-4164-b3f8-6e3e8fdf50d8"
      },
      "source": [
        "len(df3[df3['perc'] > 23].perc)"
      ],
      "execution_count": 22,
      "outputs": [
        {
          "output_type": "execute_result",
          "data": {
            "text/plain": [
              "424"
            ]
          },
          "metadata": {
            "tags": []
          },
          "execution_count": 22
        }
      ]
    },
    {
      "cell_type": "markdown",
      "metadata": {
        "id": "Lj_jD27DkhXb"
      },
      "source": [
        "Письмо будет направлено тем слушателям, у которых процент прослушиваний электронной музыки входит в первый квартиль ранжированной по доле выборки. В нашем случае это означает, что более 23% прослушанных песен пользователя составляет электронная музыка. Стоимость рекламы в целом будет составлять 424*10 = 4240 рублей."
      ]
    },
    {
      "cell_type": "code",
      "metadata": {
        "id": "Ot0tYseElRNf"
      },
      "source": [
        ""
      ],
      "execution_count": null,
      "outputs": []
    }
  ]
}