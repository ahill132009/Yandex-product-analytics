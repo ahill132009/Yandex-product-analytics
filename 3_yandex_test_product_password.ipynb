{
  "nbformat": 4,
  "nbformat_minor": 0,
  "metadata": {
    "colab": {
      "name": "3-yandex_test_product_password.ipynb",
      "provenance": [],
      "collapsed_sections": [],
      "authorship_tag": "ABX9TyMMBCYYB0mjHWLSzg+MKdvH",
      "include_colab_link": true
    },
    "kernelspec": {
      "name": "python3",
      "display_name": "Python 3"
    },
    "language_info": {
      "name": "python"
    }
  },
  "cells": [
    {
      "cell_type": "markdown",
      "metadata": {
        "id": "view-in-github",
        "colab_type": "text"
      },
      "source": [
        "<a href=\"https://colab.research.google.com/github/ahill132009/Yandex-product-analytics/blob/main/3_yandex_test_product_password.ipynb\" target=\"_parent\"><img src=\"https://colab.research.google.com/assets/colab-badge.svg\" alt=\"Open In Colab\"/></a>"
      ]
    },
    {
      "cell_type": "code",
      "metadata": {
        "id": "3-LIzWc0dgRs"
      },
      "source": [
        "import string \n",
        "import re\n"
      ],
      "execution_count": 1,
      "outputs": []
    },
    {
      "cell_type": "code",
      "metadata": {
        "id": "qxLCkBh2eReN"
      },
      "source": [
        "latin_lower = string.ascii_lowercase\n",
        "latin_upper = string.ascii_uppercase\n",
        "digits = [str(x) for x in range(0,10)]"
      ],
      "execution_count": 22,
      "outputs": []
    },
    {
      "cell_type": "code",
      "metadata": {
        "id": "uyY4gX4ueu3K"
      },
      "source": [
        "def check_password(password: str):\n",
        "  '''returns True if password is valid'''\n",
        "  # type checking\n",
        "  if not isinstance(password, str):\n",
        "    return 'Please insert a string'\n",
        "  \n",
        "  # check if password meets the criteria\n",
        "  if (len(password) >= 7 and\n",
        "      set(password).intersection(latin_lower) and\n",
        "      set(password).intersection(latin_upper) and \n",
        "      set(password).intersection(digits) and \n",
        "      len(set(password)) == len(password)) and \\\n",
        "      len(set(password) - set(password).intersection(latin_lower) -\n",
        "          set(password).intersection(latin_upper) -\n",
        "          set(password).intersection(digits)) == 0: \n",
        "    return 'Password is good'\n",
        "  else:\n",
        "    return 'Password is bad'"
      ],
      "execution_count": 35,
      "outputs": []
    },
    {
      "cell_type": "code",
      "metadata": {
        "colab": {
          "base_uri": "https://localhost:8080/"
        },
        "id": "8uu08FpsgPcz",
        "outputId": "f290c3c9-3193-4d63-b22d-0ea6f3788e88"
      },
      "source": [
        "good_passwords = ['abcdeF87', 'geulHU87', 'lkJHG0964']\n",
        "for x in good_passwords:\n",
        "  print(check_password(x))"
      ],
      "execution_count": 36,
      "outputs": [
        {
          "output_type": "stream",
          "text": [
            "Password is good\n",
            "Password is good\n",
            "Password is good\n"
          ],
          "name": "stdout"
        }
      ]
    },
    {
      "cell_type": "code",
      "metadata": {
        "id": "XwyXXzxQi2dU",
        "colab": {
          "base_uri": "https://localhost:8080/"
        },
        "outputId": "8e3b9baa-8041-4e81-e6ef-f7ad5a09a766"
      },
      "source": [
        "bad_passwords = ['Abcde8', 'Abcdefgh', 'abcdefg55', 'ABCDEF876', 'Abcdef4пп', \n",
        "                 'Abcdef^56', 'AFFhdks65','ahdfpiy77648M', '&0csbh8A']\n",
        "for x in bad_passwords:\n",
        "  print(check_password(x))"
      ],
      "execution_count": 40,
      "outputs": [
        {
          "output_type": "stream",
          "text": [
            "Password is bad\n",
            "Password is bad\n",
            "Password is bad\n",
            "Password is bad\n",
            "Password is bad\n",
            "Password is bad\n",
            "Password is bad\n",
            "Password is bad\n",
            "Password is bad\n"
          ],
          "name": "stdout"
        }
      ]
    },
    {
      "cell_type": "code",
      "metadata": {
        "id": "phOpdRlqZiAv"
      },
      "source": [
        ""
      ],
      "execution_count": null,
      "outputs": []
    }
  ]
}