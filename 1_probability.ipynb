{
  "nbformat": 4,
  "nbformat_minor": 0,
  "metadata": {
    "colab": {
      "name": "1-probability.ipynb",
      "provenance": [],
      "authorship_tag": "ABX9TyMW1y1NyjFciicaA1cj1uvs",
      "include_colab_link": true
    },
    "kernelspec": {
      "display_name": "Python 3",
      "name": "python3"
    },
    "language_info": {
      "name": "python"
    }
  },
  "cells": [
    {
      "cell_type": "markdown",
      "metadata": {
        "id": "view-in-github",
        "colab_type": "text"
      },
      "source": [
        "<a href=\"https://colab.research.google.com/github/ahill132009/Yandex-product-analytics/blob/main/1_probability.ipynb\" target=\"_parent\"><img src=\"https://colab.research.google.com/assets/colab-badge.svg\" alt=\"Open In Colab\"/></a>"
      ]
    },
    {
      "cell_type": "code",
      "metadata": {
        "colab": {
          "base_uri": "https://localhost:8080/"
        },
        "id": "QJSQwz0_VOoz",
        "outputId": "5b51856a-efe7-4ee9-8c30-5dd865f16a5c"
      },
      "source": [
        "import numpy as np\n",
        "\n",
        "# матрица смежности графа\n",
        "a_weights = [0.5, 0.25, 0.25]\n",
        "b_weights = [0.25, 0.5, 0.25]\n",
        "c_weights = [0.25, 0.25, 0.5]\n",
        "\n",
        "A = ['a', 'b', 'c']\n",
        "\n",
        "a_samples = np.random.choice(A, 100000, p=a_weights)\n",
        "b_samples = np.random.choice(A, 100000, p=b_weights)\n",
        "c_samples = np.random.choice(A, 100000, p=c_weights)\n",
        "\n",
        "count = 0\n",
        "for a,b,c in zip(a_samples, b_samples, c_samples):\n",
        "  if a == b or b == c or a == c:\n",
        "    count += 1\n",
        "\n",
        "print(f'В {count/100000*100} % случаев 2 из 3 вариантов оказываются одинаковыми')"
      ],
      "execution_count": null,
      "outputs": [
        {
          "output_type": "stream",
          "text": [
            "В 74.955 % случаев 2 из 3 вариантов оказываются одинаковыми\n"
          ],
          "name": "stdout"
        }
      ]
    },
    {
      "cell_type": "code",
      "metadata": {
        "id": "-LfdDooEWBmC"
      },
      "source": [
        ""
      ],
      "execution_count": null,
      "outputs": []
    }
  ]
}